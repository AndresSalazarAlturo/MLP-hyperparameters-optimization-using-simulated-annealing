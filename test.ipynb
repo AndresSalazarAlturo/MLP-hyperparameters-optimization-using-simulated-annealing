{
 "cells": [
  {
   "cell_type": "code",
   "execution_count": 3,
   "metadata": {},
   "outputs": [
    {
     "data": {
      "text/plain": [
       "0.017"
      ]
     },
     "execution_count": 3,
     "metadata": {},
     "output_type": "execute_result"
    }
   ],
   "source": [
    "import numpy as np\n",
    "import random\n",
    "\n",
    "a = 0.01\n",
    "\n",
    "b = a + 0.01\n",
    "c = a - 0.01\n",
    "\n",
    "d = np.arange(c, b, 0.001)\n",
    "\n",
    "e = random.choice(d)\n",
    "e"
   ]
  },
  {
   "cell_type": "code",
   "execution_count": 4,
   "metadata": {},
   "outputs": [
    {
     "name": "stdout",
     "output_type": "stream",
     "text": [
      "Random rational number between 1.5 and 5.5 : 2.0821815268563553\n"
     ]
    }
   ],
   "source": [
    "import random\n",
    "\n",
    "# Define the range of numbers\n",
    "lower_bound = 1.5  # Example lower bound\n",
    "upper_bound = 5.5  # Example upper bound\n",
    "\n",
    "# Generate a random rational number between the lower and upper bounds\n",
    "random_number = random.uniform(lower_bound, upper_bound)\n",
    "\n",
    "print(\"Random rational number between\", lower_bound, \"and\", upper_bound, \":\", random_number)\n"
   ]
  },
  {
   "cell_type": "code",
   "execution_count": 28,
   "metadata": {},
   "outputs": [
    {
     "data": {
      "text/plain": [
       "19"
      ]
     },
     "execution_count": 28,
     "metadata": {},
     "output_type": "execute_result"
    }
   ],
   "source": [
    "def random_number_close_range(current_value, x, int_value = False):\n",
    "    \"\"\"\n",
    "        Take the current value, add and subtract a constant value x to generate a randon\n",
    "        value in the range(current_value - x, current_value + x)\n",
    "        :param current_value: Current value that is the set to be the main value in the range\n",
    "        :param x: Value to add and subtract to current_value\n",
    "\n",
    "        :return: Random number in range(current_value - x, current_value + x)\n",
    "    \"\"\"\n",
    "\n",
    "    lower_bound = current_value - x\n",
    "    upper_bound = current_value + x\n",
    "\n",
    "    if int_value:\n",
    "        ## Generate random integer number between lower and upper bounds\n",
    "        random_rational_number = random.randint(lower_bound, upper_bound)\n",
    "    else:\n",
    "        ## Generate random rational number between lower and upper bounds\n",
    "        random_rational_number = random.uniform(lower_bound, upper_bound)\n",
    "\n",
    "    return random_rational_number\n",
    "\n",
    "random_number_close_range(20, 5, int_value=True)"
   ]
  },
  {
   "cell_type": "code",
   "execution_count": 19,
   "metadata": {},
   "outputs": [
    {
     "data": {
      "text/plain": [
       "numpy.int32"
      ]
     },
     "execution_count": 19,
     "metadata": {},
     "output_type": "execute_result"
    }
   ],
   "source": [
    "hidden_layer_sizes = np.arange(20, 200, 1)\n",
    "hidden_layer_sizes_ = random.choice(hidden_layer_sizes)\n",
    "type(hidden_layer_sizes_)"
   ]
  },
  {
   "cell_type": "code",
   "execution_count": 21,
   "metadata": {},
   "outputs": [
    {
     "data": {
      "text/plain": [
       "97"
      ]
     },
     "execution_count": 21,
     "metadata": {},
     "output_type": "execute_result"
    }
   ],
   "source": [
    "hidden_layer_sizes_"
   ]
  },
  {
   "cell_type": "code",
   "execution_count": null,
   "metadata": {},
   "outputs": [],
   "source": []
  }
 ],
 "metadata": {
  "kernelspec": {
   "display_name": "courseworkAdaptiveSystems1",
   "language": "python",
   "name": "python3"
  },
  "language_info": {
   "codemirror_mode": {
    "name": "ipython",
    "version": 3
   },
   "file_extension": ".py",
   "mimetype": "text/x-python",
   "name": "python",
   "nbconvert_exporter": "python",
   "pygments_lexer": "ipython3",
   "version": "3.11.4"
  }
 },
 "nbformat": 4,
 "nbformat_minor": 2
}
